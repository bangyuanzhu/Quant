{
  "cells": [
    {
      "cell_type": "code",
      "execution_count": null,
      "metadata": {
        "colab": {
          "base_uri": "https://localhost:8080/"
        },
        "id": "9WlwJ6f-f54G",
        "outputId": "5b8f436d-878b-4cd2-b442-7a10ac7e4226"
      },
      "outputs": [
        {
          "output_type": "stream",
          "name": "stdout",
          "text": [
            "Requirement already satisfied: catboost[gpu] in /usr/local/lib/python3.10/dist-packages (1.2.5)\n",
            "\u001b[33mWARNING: catboost 1.2.5 does not provide the extra 'gpu'\u001b[0m\u001b[33m\n",
            "\u001b[0mRequirement already satisfied: graphviz in /usr/local/lib/python3.10/dist-packages (from catboost[gpu]) (0.20.3)\n",
            "Requirement already satisfied: matplotlib in /usr/local/lib/python3.10/dist-packages (from catboost[gpu]) (3.7.1)\n",
            "Requirement already satisfied: numpy>=1.16.0 in /usr/local/lib/python3.10/dist-packages (from catboost[gpu]) (1.25.2)\n",
            "Requirement already satisfied: pandas>=0.24 in /usr/local/lib/python3.10/dist-packages (from catboost[gpu]) (2.0.3)\n",
            "Requirement already satisfied: scipy in /usr/local/lib/python3.10/dist-packages (from catboost[gpu]) (1.11.4)\n",
            "Requirement already satisfied: plotly in /usr/local/lib/python3.10/dist-packages (from catboost[gpu]) (5.15.0)\n",
            "Requirement already satisfied: six in /usr/local/lib/python3.10/dist-packages (from catboost[gpu]) (1.16.0)\n",
            "Requirement already satisfied: python-dateutil>=2.8.2 in /usr/local/lib/python3.10/dist-packages (from pandas>=0.24->catboost[gpu]) (2.8.2)\n",
            "Requirement already satisfied: pytz>=2020.1 in /usr/local/lib/python3.10/dist-packages (from pandas>=0.24->catboost[gpu]) (2023.4)\n",
            "Requirement already satisfied: tzdata>=2022.1 in /usr/local/lib/python3.10/dist-packages (from pandas>=0.24->catboost[gpu]) (2024.1)\n",
            "Requirement already satisfied: contourpy>=1.0.1 in /usr/local/lib/python3.10/dist-packages (from matplotlib->catboost[gpu]) (1.2.1)\n",
            "Requirement already satisfied: cycler>=0.10 in /usr/local/lib/python3.10/dist-packages (from matplotlib->catboost[gpu]) (0.12.1)\n",
            "Requirement already satisfied: fonttools>=4.22.0 in /usr/local/lib/python3.10/dist-packages (from matplotlib->catboost[gpu]) (4.53.0)\n",
            "Requirement already satisfied: kiwisolver>=1.0.1 in /usr/local/lib/python3.10/dist-packages (from matplotlib->catboost[gpu]) (1.4.5)\n",
            "Requirement already satisfied: packaging>=20.0 in /usr/local/lib/python3.10/dist-packages (from matplotlib->catboost[gpu]) (24.1)\n",
            "Requirement already satisfied: pillow>=6.2.0 in /usr/local/lib/python3.10/dist-packages (from matplotlib->catboost[gpu]) (9.4.0)\n",
            "Requirement already satisfied: pyparsing>=2.3.1 in /usr/local/lib/python3.10/dist-packages (from matplotlib->catboost[gpu]) (3.1.2)\n",
            "Requirement already satisfied: tenacity>=6.2.0 in /usr/local/lib/python3.10/dist-packages (from plotly->catboost[gpu]) (8.4.1)\n"
          ]
        }
      ],
      "source": [
        "!pip install catboost[gpu]"
      ]
    },
    {
      "cell_type": "code",
      "execution_count": null,
      "metadata": {
        "colab": {
          "base_uri": "https://localhost:8080/"
        },
        "id": "Whs3kItbe6t_",
        "outputId": "6db43b1e-d724-40f2-b1b5-65e2f92c5384"
      },
      "outputs": [
        {
          "output_type": "stream",
          "name": "stdout",
          "text": [
            "Drive already mounted at /content/download; to attempt to forcibly remount, call drive.mount(\"/content/download\", force_remount=True).\n"
          ]
        }
      ],
      "source": [
        "from google.colab import drive\n",
        "drive.mount('/content/download')"
      ]
    },
    {
      "cell_type": "code",
      "execution_count": null,
      "metadata": {
        "id": "BBHwPpt8ccMf"
      },
      "outputs": [],
      "source": [
        "import numpy as np # linear algebra\n",
        "import pandas as pd\n",
        "import matplotlib.pyplot as plt\n",
        "\n",
        "from datetime import datetime\n",
        "from scipy.special import logsumexp\n",
        "\n",
        "from catboost import Pool, cv, CatBoostClassifier, CatBoostRegressor\n",
        "from sklearn.metrics import mean_squared_error, classification_report"
      ]
    },
    {
      "cell_type": "code",
      "execution_count": null,
      "metadata": {
        "id": "nDcue1M9ccMf"
      },
      "outputs": [],
      "source": [
        "df = pd.read_csv(\"/content/download/MyDrive/1-09-1-20.csv\")\n",
        "print(df.shape)\n",
        "df.tail()"
      ]
    },
    {
      "cell_type": "code",
      "execution_count": null,
      "metadata": {
        "id": "s8_-ecB2ccMg"
      },
      "outputs": [],
      "source": [
        "new_columns = [\n",
        "    'index', 'timestamp', 'time', 'bid1', 'bid1vol', 'bid2', 'bid2vol',\n",
        "    'bid3', 'bid3vol', 'bid4', 'bid4vol', 'bid5', 'bid5vol',\n",
        "    'bid6', 'bid6vol', 'bid7', 'bid7vol', 'bid8', 'bid8vol',\n",
        "    'bid9', 'bid9vol', 'bid10', 'bid10vol', 'ask1', 'ask1vol',\n",
        "    'ask2', 'ask2vol', 'ask3', 'ask3vol', 'ask4', 'ask4vol',\n",
        "    'ask5', 'ask5vol', 'ask6', 'ask6vol', 'ask7', 'ask7vol',\n",
        "    'ask8', 'ask8vol', 'ask9', 'ask9vol', 'ask10', 'ask10vol'\n",
        "]\n",
        "df.columns = new_columns\n",
        "df['mid'] = 0.5*(df['bid1'] + df['ask1'])\n",
        "\n",
        "print(df.head())"
      ]
    },
    {
      "cell_type": "code",
      "execution_count": null,
      "metadata": {
        "id": "k-aorF8ip5Tj"
      },
      "outputs": [],
      "source": [
        "interval_set = 5 * 1000 #predicted timeslot\n",
        "df['timestamp_predict'] = df['timestamp'] + interval_set\n",
        "df['mom'] = df['mid']\n",
        "# Use numpy to find the closest indices efficiently\n",
        "timestamps = df['timestamp'].values\n",
        "predicted_timestamps = df['timestamp_predict'].values\n",
        "closest_indices = np.searchsorted(timestamps, predicted_timestamps)\n",
        "\n",
        "for ind, row in df.iterrows():\n",
        "    if ind == len(df) - 1:\n",
        "        df.at[ind, 'mom'] = 0\n",
        "        break\n",
        "\n",
        "    # Find the closest timestamp index\n",
        "    closest_index = closest_indices[ind]\n",
        "    if closest_index >= len(df):\n",
        "        closest_index = len(df) - 1\n",
        "\n",
        "    if row['mid'] < df.loc[closest_index, 'mid']:\n",
        "        df.at[ind, 'mom'] = 1\n",
        "    if row['mid'] > df.loc[closest_index, 'mid']:\n",
        "        df.at[ind, 'mom'] = -1\n",
        "    if row['mid'] == df.loc[closest_index, 'mid']:\n",
        "        df.at[ind, 'mom'] = 0\n"
      ]
    },
    {
      "cell_type": "code",
      "execution_count": null,
      "metadata": {
        "id": "HNB8556TccMg"
      },
      "outputs": [],
      "source": [
        "## y is binary.\n",
        "display(df['mom'].describe())"
      ]
    },
    {
      "cell_type": "code",
      "execution_count": null,
      "metadata": {
        "id": "XRaFNiCJccMg"
      },
      "outputs": [],
      "source": [
        "bid_cols = ['bid1', 'bid2', 'bid3', 'bid4', 'bid5', 'bid6', 'bid7', 'bid8', 'bid9', 'bid10']\n",
        "bid_vol_cols = ['bid1vol', 'bid2vol', 'bid3vol', 'bid4vol', 'bid5vol', 'bid6vol', 'bid7vol', 'bid8vol', 'bid9vol', 'bid10vol']\n",
        "ask_cols = ['ask1', 'ask2', 'ask3', 'ask4', 'ask5', 'ask6', 'ask7', 'ask8', 'ask9', 'ask10']\n",
        "ask_vol_cols = ['ask1vol','ask2vol', 'ask3vol', 'ask4vol', 'ask5vol', 'ask6vol', 'ask7vol', 'ask8vol', 'ask9vol', 'ask10vol']\n",
        "\n",
        "group_cols = {\"bid_cols\":bid_cols,\"bid_vol_cols\":bid_vol_cols,\"ask_cols\":ask_cols,\"ask_vol_cols\":ask_vol_cols}"
      ]
    },
    {
      "cell_type": "markdown",
      "metadata": {
        "id": "IZDGKvPpccMh"
      },
      "source": [
        "*  Additional features could include: rank, which bid number is the max/min, etc'\n",
        "* features between the aggregated features (e.g. max bid div max ask..)"
      ]
    },
    {
      "cell_type": "code",
      "execution_count": null,
      "metadata": {
        "id": "FE-ecc5cccMh"
      },
      "outputs": [],
      "source": [
        "for group in group_cols.keys():\n",
        "    print(group)\n",
        "    df[f\"{group}_max\"] = df[group_cols[group]].max(axis=1)\n",
        "    df[f\"{group}_min\"] = df[group_cols[group]].min(axis=1)\n",
        "    df[f\"{group}_spread\"] = df[f\"{group}_max\"].div(df[f\"{group}_min\"])\n",
        "    df[f\"{group}_logsumexp\"] = df[group_cols[group]].apply(logsumexp)\n",
        "\n",
        "    # Additional features\n",
        "    df[f\"{group}_rank_max\"] = df[group_cols[group]].idxmax(axis=1).apply(lambda x: group_cols[group].index(x))\n",
        "    df[f\"{group}_rank_min\"] = df[group_cols[group]].idxmin(axis=1).apply(lambda x: group_cols[group].index(x))\n"
      ]
    },
    {
      "cell_type": "markdown",
      "metadata": {
        "id": "FWb3fkGiccMh"
      },
      "source": [
        "# Split back into train and test, and build model"
      ]
    },
    {
      "cell_type": "code",
      "execution_count": null,
      "metadata": {
        "id": "vP1FRJcmccMi"
      },
      "outputs": [],
      "source": [
        "end_time = df['timestamp'].tolist()[-1] - interval_set\n",
        "df = df[df['timestamp'] <= end_time]"
      ]
    },
    {
      "cell_type": "code",
      "source": [
        "split_index = int(len(df) * 0.8)\n",
        "train = df.iloc[:split_index]\n",
        "test = df.iloc[split_index:]"
      ],
      "metadata": {
        "id": "wq6dwO1K_J3b"
      },
      "execution_count": null,
      "outputs": []
    },
    {
      "cell_type": "code",
      "source": [
        "train.to_csv(\"/content/download/MyDrive/download/train_hft.csv\")\n",
        "test.to_csv(\"/content/download/MyDrive/download/test_hft_nodates.csv\")"
      ],
      "metadata": {
        "id": "YOQhYLg4g0ep"
      },
      "execution_count": null,
      "outputs": []
    },
    {
      "cell_type": "code",
      "source": [
        "train = pd.read_csv(\"/content/download/MyDrive/download/train_hft.csv\")\n",
        "test = pd.read_csv(\"/content/download/MyDrive/download/test_hft_nodates.csv\")"
      ],
      "metadata": {
        "id": "2Gqe7yXEqCf9"
      },
      "execution_count": null,
      "outputs": []
    },
    {
      "cell_type": "code",
      "source": [
        "import torch\n",
        "device = torch.device(\"cuda\" if torch.cuda.is_available() else \"cpu\")\n",
        "print(device)"
      ],
      "metadata": {
        "colab": {
          "base_uri": "https://localhost:8080/"
        },
        "id": "4MjX2hbMYDEo",
        "outputId": "890c8329-c068-429e-ac11-76585b23e2e9"
      },
      "execution_count": null,
      "outputs": [
        {
          "output_type": "stream",
          "name": "stdout",
          "text": [
            "cuda\n"
          ]
        }
      ]
    },
    {
      "cell_type": "code",
      "execution_count": null,
      "metadata": {
        "id": "wkFkkRxDccMi"
      },
      "outputs": [],
      "source": [
        "X = train.drop(['mom', 'index', 'timestamp', 'time'],axis=1)\n",
        "y = train['mom']"
      ]
    },
    {
      "cell_type": "code",
      "source": [
        "from sklearn.model_selection import KFold\n",
        "model = CatBoostClassifier(iterations=1000, depth=5, learning_rate=0.1, loss_function='MultiClass', verbose=False, task_type=\"GPU\")\n",
        "\n",
        "# Define k-fold cross-validation\n",
        "kf = KFold(n_splits=5, shuffle=True, random_state=42)\n",
        "\n",
        "# Perform k-fold cross-validation\n",
        "cv_results = []\n",
        "models = []\n",
        "for train_index, test_index in kf.split(X):\n",
        "    X_train, X_test = X.iloc[train_index], X.iloc[test_index]\n",
        "    y_train, y_test = y.iloc[train_index], y.iloc[test_index]\n",
        "\n",
        "    # Train the model\n",
        "    model.fit(X_train, y_train, eval_set=(X_test, y_test), verbose=False)\n",
        "    models.append(model)\n",
        "    # Evaluate the model\n",
        "    score = model.score(X_test, y_test)\n",
        "    cv_results.append(score)\n"
      ],
      "metadata": {
        "id": "DlldYb_klBpr"
      },
      "execution_count": null,
      "outputs": []
    },
    {
      "cell_type": "code",
      "execution_count": null,
      "metadata": {
        "id": "iqCpEJE1ccMi",
        "colab": {
          "base_uri": "https://localhost:8080/"
        },
        "outputId": "c95fda3b-0dd6-4467-f99b-da20582da887"
      },
      "outputs": [
        {
          "output_type": "stream",
          "name": "stdout",
          "text": [
            "[0.5957740863342134, 0.5945243711218623, 0.5951090234128952, 0.5948694667435035, 0.5956501199458568]\n"
          ]
        }
      ],
      "source": [
        "print(cv_results)"
      ]
    },
    {
      "cell_type": "code",
      "source": [
        "from scipy.stats import mode\n",
        "\n",
        "y_test = test['mom'].tolist()\n",
        "X_test = test.drop(['mom', 'index', 'timestamp', 'time'],axis=1)\n",
        "predictions = np.zeros((X_test.shape[0], len(models)))\n",
        "\n",
        "for i, model in enumerate(models):\n",
        "    predictions[:, i] = model.predict(X_test).flatten()\n",
        "\n",
        "# Take the mean of the predictions\n",
        "mean_predictions = predictions.mean(axis=1)\n",
        "\n",
        "# Apply the specified logic for the final prediction\n",
        "final_predictions = np.where(mean_predictions <= -0.79, -1, np.where(mean_predictions >= 0.79, 1, 0))\n",
        "\n",
        "print(\"Final Predictions:\", final_predictions)"
      ],
      "metadata": {
        "colab": {
          "base_uri": "https://localhost:8080/"
        },
        "id": "XgxqKN9PH4sw",
        "outputId": "31e2a20e-9605-42bf-b180-575e282f5339"
      },
      "execution_count": null,
      "outputs": [
        {
          "output_type": "stream",
          "name": "stdout",
          "text": [
            "Final Predictions: [-1  1 -1 ...  1  1  1]\n"
          ]
        }
      ]
    },
    {
      "cell_type": "code",
      "source": [
        "from sklearn.metrics import accuracy_score, f1_score, confusion_matrix\n",
        "\n",
        "accuracy = accuracy_score(y_test, final_predictions)\n",
        "print(\"Accuracy:\", accuracy)\n",
        "\n",
        "# Calculate F1-score\n",
        "f1 = f1_score(y_test, final_predictions, average='weighted')\n",
        "print(\"F1-Score:\", f1)\n",
        "\n",
        "# Calculate confusion matrix\n",
        "conf_matrix = confusion_matrix(y_test, final_predictions)\n",
        "print(\"Confusion Matrix:\\n\", conf_matrix)"
      ],
      "metadata": {
        "colab": {
          "base_uri": "https://localhost:8080/"
        },
        "id": "yD4hrfrxNJQ4",
        "outputId": "bd6b1b15-438a-4e74-aedf-c3978c76e24a"
      },
      "execution_count": null,
      "outputs": [
        {
          "output_type": "stream",
          "name": "stdout",
          "text": [
            "Accuracy: 0.4431952504121045\n",
            "F1-Score: 0.3674930125362931\n",
            "Confusion Matrix:\n",
            " [[102104   4024 165957]\n",
            " [ 33230   3125 177506]\n",
            " [ 30965   3789 225470]]\n"
          ]
        }
      ]
    },
    {
      "cell_type": "markdown",
      "metadata": {
        "id": "YO8zOTnvccMi"
      },
      "source": [
        "## Features importances\n"
      ]
    },
    {
      "cell_type": "code",
      "execution_count": null,
      "metadata": {
        "id": "VO7YJC7HccMi"
      },
      "outputs": [],
      "source": [
        "feature_importances = model.get_feature_importance(train_pool)\n",
        "feature_names = X.columns\n",
        "for score, name in sorted(zip(feature_importances, feature_names), reverse=True):\n",
        "    if score > 0.2:\n",
        "        print('{0}: {1:.2f}'.format(name, score))"
      ]
    },
    {
      "cell_type": "code",
      "execution_count": null,
      "metadata": {
        "id": "RLB1eNmPccMi"
      },
      "outputs": [],
      "source": [
        "import shap\n",
        "shap.initjs()\n",
        "\n",
        "explainer = shap.TreeExplainer(model)\n",
        "shap_values = explainer.shap_values(train_pool)\n",
        "\n",
        "# visualize the training set predictions\n",
        "# SHAP plots for all the data is very slow, so we'll only do it for a sample. Taking the head instead of a random sample is dangerous!\n",
        "shap.force_plot(explainer.expected_value,shap_values[0,:300], X.iloc[0,:300])"
      ]
    },
    {
      "cell_type": "code",
      "execution_count": null,
      "metadata": {
        "id": "orHaOEnlccMi"
      },
      "outputs": [],
      "source": [
        "# summarize the effects of all the features\n",
        "shap.summary_plot(shap_values, X)"
      ]
    }
  ],
  "metadata": {
    "accelerator": "GPU",
    "colab": {
      "gpuType": "T4",
      "machine_shape": "hm",
      "provenance": []
    },
    "kernelspec": {
      "display_name": "Python 3",
      "name": "python3"
    },
    "language_info": {
      "codemirror_mode": {
        "name": "ipython",
        "version": 3
      },
      "file_extension": ".py",
      "mimetype": "text/x-python",
      "name": "python",
      "nbconvert_exporter": "python",
      "pygments_lexer": "ipython3",
      "version": "3.6.4"
    }
  },
  "nbformat": 4,
  "nbformat_minor": 0
}