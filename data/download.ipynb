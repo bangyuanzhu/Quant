{
 "cells": [
  {
   "cell_type": "code",
   "execution_count": 1,
   "metadata": {},
   "outputs": [],
   "source": [
    "import pandas as pd\n",
    "import numpy as np\n",
    "from datetime import datetime\n",
    "import baostock as bs\n",
    "import csv"
   ]
  },
  {
   "cell_type": "code",
   "execution_count": 2,
   "metadata": {},
   "outputs": [
    {
     "name": "stdout",
     "output_type": "stream",
     "text": [
      "<class 'pandas.core.frame.DataFrame'>\n",
      "RangeIndex: 900 entries, 0 to 899\n",
      "Data columns (total 3 columns):\n",
      " #   Column      Non-Null Count  Dtype \n",
      "---  ------      --------------  ----- \n",
      " 0   chang_date  900 non-null    object\n",
      " 1   code        900 non-null    int64 \n",
      " 2   in_out      900 non-null    object\n",
      "dtypes: int64(1), object(2)\n",
      "memory usage: 21.2+ KB\n"
     ]
    }
   ],
   "source": [
    "history = pd.read_csv(r'C:\\Users\\bangy\\Desktop\\HS300_history.csv')\n",
    "history.info()"
   ]
  },
  {
   "cell_type": "code",
   "execution_count": 3,
   "metadata": {},
   "outputs": [],
   "source": [
    "date = history['chang_date'].tolist()\n",
    "code = history['code'].tolist()\n",
    "in_out = history['in_out'].tolist()\n",
    "\n",
    "\n",
    "formatted_numbers = []\n",
    "for num in code:\n",
    "    num_str = str(num)  # Convert the number to a string\n",
    "    prefix_zeros = '0' * (6 - len(num_str))  # Calculate the number of prefix zeros needed\n",
    "    \n",
    "    if num_str[0] == '6' and len(prefix_zeros) == 0:\n",
    "        formatted_numbers.append('sh.' + prefix_zeros + num_str)\n",
    "    else:\n",
    "        formatted_numbers.append('sz.' + prefix_zeros + num_str)\n",
    "\n",
    "code = formatted_numbers\n",
    "\n",
    "for days in range(len(date)):\n",
    "    date_str = date[days].strip()\n",
    "    year, month, day = date_str.split('/')\n",
    "    month = month.zfill(2)\n",
    "    day = day.zfill(2)\n",
    "    date[days] = f\"{year}-{month}-{day}\""
   ]
  },
  {
   "cell_type": "code",
   "execution_count": 4,
   "metadata": {},
   "outputs": [],
   "source": [
    "change_date = []\n",
    "change_date.append(date[0])\n",
    "take_in = []\n",
    "drop_out = []\n",
    "temp_in = []\n",
    "temp_out = []\n",
    "\n",
    "for days in range(len(date)):\n",
    "    if date[days] != change_date[-1]:\n",
    "        change_date.append(date[days])\n",
    "        take_in.append(temp_in)\n",
    "        drop_out.append(temp_out)\n",
    "        temp_in = []\n",
    "        temp_out = []\n",
    "    \n",
    "    if in_out[days] == \"takein\":\n",
    "        temp_in.append(code[days])\n",
    "    if in_out[days] == 'dropout':\n",
    "        temp_out.append(code[days])\n",
    "take_in.append(temp_in)\n",
    "drop_out.append(temp_out)"
   ]
  },
  {
   "cell_type": "code",
   "execution_count": 5,
   "metadata": {},
   "outputs": [],
   "source": [
    "hs = ['sh.600000', 'sh.600009', 'sh.600010', 'sh.600011', 'sh.600015', 'sh.600016', 'sh.600018', 'sh.600019', 'sh.600025', 'sh.600028', 'sh.600029', 'sh.600030', 'sh.600031', 'sh.600036', 'sh.600039', 'sh.600048', 'sh.600050', 'sh.600061', 'sh.600085', 'sh.600089', 'sh.600104', 'sh.600111', 'sh.600115', 'sh.600132', 'sh.600150', 'sh.600176', 'sh.600183', 'sh.600188', 'sh.600196', 'sh.600219', 'sh.600233', 'sh.600276', 'sh.600309', 'sh.600332', 'sh.600346', 'sh.600362', 'sh.600383', 'sh.600406', 'sh.600426', 'sh.600436', 'sh.600438', 'sh.600460', 'sh.600519', 'sh.600547', 'sh.600570', 'sh.600584', 'sh.600585', 'sh.600588', 'sh.600600', 'sh.600606', 'sh.600660', 'sh.600674', 'sh.600690', 'sh.600741', 'sh.600745', 'sh.600760', 'sh.600763', 'sh.600795', 'sh.600803', 'sh.600809', 'sh.600837', 'sh.600845', 'sh.600884', 'sh.600886', 'sh.600887', 'sh.600893', 'sh.600900', 'sh.600905', 'sh.600918', 'sh.600919', 'sh.600926', 'sh.600941', 'sh.600958', 'sh.600989', 'sh.600999', 'sh.601006', 'sh.601009', 'sh.601012', 'sh.601021', 'sh.601066', 'sh.601088', 'sh.601100', 'sh.601111', 'sh.601117', 'sh.601138', 'sh.601155', 'sh.601166', 'sh.601169', 'sh.601186', 'sh.601211', 'sh.601216', 'sh.601225', 'sh.601229', 'sh.601236', 'sh.601238', 'sh.601288', 'sh.601318', 'sh.601319', 'sh.601328', 'sh.601336', 'sh.601360', 'sh.601377', 'sh.601390', 'sh.601398', 'sh.601600', 'sh.601601', 'sh.601615', 'sh.601618', 'sh.601628', 'sh.601633', 'sh.601658', 'sh.601668', 'sh.601669', 'sh.601688', 'sh.601689', 'sh.601698', 'sh.601728', 'sh.601766', 'sh.601788', 'sh.601799', 'sh.601800', 'sh.601808', 'sh.601816', 'sh.601818', 'sh.601838', 'sh.601857', 'sh.601865', 'sh.601868', 'sh.601877', 'sh.601878', 'sh.601881', 'sh.601888', 'sh.601898', 'sh.601899', 'sh.601901', 'sh.601919', 'sh.601939', 'sh.601966', 'sh.601985', 'sh.601988', 'sh.601989', 'sh.601995', 'sh.601998', 'sh.603019', 'sh.603185', 'sh.603195', 'sh.603259', 'sh.603260', 'sh.603288', 'sh.603290', 'sh.603369', 'sh.603392', 'sh.603486', 'sh.603501', 'sh.603659', 'sh.603799', 'sh.603806', 'sh.603833', 'sh.603882', 'sh.603899', 'sh.603986', 'sh.603993', 'sh.605117', 'sh.605499', 'sh.688005', 'sh.688008', 'sh.688012', 'sh.688036', 'sh.688065', 'sh.688111', 'sh.688126', 'sh.688169', 'sh.688187', 'sh.688303', 'sh.688363', 'sh.688396', 'sh.688561', 'sh.688599', 'sh.688981', 'sz.000001', 'sz.000002', 'sz.000063', 'sz.000069', 'sz.000100', 'sz.000157', 'sz.000166', 'sz.000301', 'sz.000333', 'sz.000338', 'sz.000408', 'sz.000425', 'sz.000538', 'sz.000568', 'sz.000596', 'sz.000625', 'sz.000651', 'sz.000661', 'sz.000708', 'sz.000723', 'sz.000725', 'sz.000733', 'sz.000768', 'sz.000776', 'sz.000786', 'sz.000792', 'sz.000800', 'sz.000858', 'sz.000876', 'sz.000877', 'sz.000895', 'sz.000938', 'sz.000963', 'sz.000977', 'sz.001289', 'sz.001979', 'sz.002001', 'sz.002007', 'sz.002008', 'sz.002027', 'sz.002032', 'sz.002049', 'sz.002050', 'sz.002064', 'sz.002074', 'sz.002120', 'sz.002129', 'sz.002142', 'sz.002179', 'sz.002180', 'sz.002202', 'sz.002230', 'sz.002236', 'sz.002241', 'sz.002252', 'sz.002271', 'sz.002304', 'sz.002311', 'sz.002352', 'sz.002371', 'sz.002410', 'sz.002414', 'sz.002415', 'sz.002459', 'sz.002460', 'sz.002466', 'sz.002475', 'sz.002493', 'sz.002555', 'sz.002594', 'sz.002600', 'sz.002601', 'sz.002602', 'sz.002648', 'sz.002709', 'sz.002714', 'sz.002736', 'sz.002756', 'sz.002812', 'sz.002821', 'sz.002841', 'sz.002916', 'sz.002920', 'sz.002938', 'sz.003816', 'sz.300014', 'sz.300015', 'sz.300033', 'sz.300059', 'sz.300122', 'sz.300124', 'sz.300142', 'sz.300207', 'sz.300223', 'sz.300274', 'sz.300316', 'sz.300347', 'sz.300408', 'sz.300413', 'sz.300433', 'sz.300450', 'sz.300454', 'sz.300496', 'sz.300498', 'sz.300529', 'sz.300595', 'sz.300601', 'sz.300628', 'sz.300661', 'sz.300750', 'sz.300751', 'sz.300759', 'sz.300760', 'sz.300763', 'sz.300769', 'sz.300782', 'sz.300896', 'sz.300919', 'sz.300957', 'sz.300979', 'sz.300999']\n",
    "stock_pool = [hs]\n",
    "\n",
    "for days in range(len(change_date)-1, -1, -1):\n",
    "    temp_stock = []\n",
    "    temp_stock = list(stock_pool[-1])\n",
    "    for stocks in take_in[days]:\n",
    "        temp_stock.remove(stocks)\n",
    "    for stocks in drop_out[days]:\n",
    "        temp_stock.append(stocks)\n",
    "    stock_pool.append(list(temp_stock))\n",
    "stock_pool.reverse()\n",
    "\n",
    "start_dates = []\n",
    "end_dates = []\n",
    "\n",
    "start_dates.append('2013-07-01')\n",
    "for days in range(len(change_date)):\n",
    "    start_dates.append(change_date[days])\n",
    "    end_dates.append(change_date[days])\n",
    "end_dates.append('2023-06-09')"
   ]
  },
  {
   "cell_type": "code",
   "execution_count": 6,
   "metadata": {},
   "outputs": [
    {
     "name": "stdout",
     "output_type": "stream",
     "text": [
      "login success!\n",
      "2013-07-01\n",
      "2013-09-18\n",
      "2013-12-16\n",
      "2014-06-16\n",
      "2014-12-15\n",
      "2015-01-26\n",
      "2015-05-21\n",
      "2015-06-15\n",
      "2015-12-14\n",
      "2015-12-30\n",
      "2016-06-13\n",
      "2016-12-12\n",
      "2017-02-14\n",
      "2017-06-12\n",
      "2017-12-11\n",
      "2018-06-11\n",
      "2018-12-17\n",
      "2019-06-17\n",
      "2019-12-16\n",
      "2020-06-15\n",
      "2020-12-14\n",
      "2021-06-15\n",
      "2021-12-13\n",
      "2022-06-13\n",
      "2022-12-12\n"
     ]
    }
   ],
   "source": [
    "\n",
    "lg = bs.login()\n",
    "\n",
    "\n",
    "for stock_list, start_date, end_date in zip(stock_pool, start_dates, end_dates):\n",
    "    data_list = []\n",
    "    print(start_date)\n",
    "    for code in stock_list:\n",
    "        rs = bs.query_history_k_data_plus(code,\n",
    "                                            \"date,code,open,high,low,close,preclose,volume,amount,adjustflag,turn,tradestatus,pctChg,peTTM,pbMRQ,psTTM,pcfNcfTTM,isST\",\n",
    "                                            start_date=start_date,\n",
    "                                            end_date=end_date,\n",
    "                                            frequency=\"d\",\n",
    "                                            adjustflag=\"1\")\n",
    "        if rs.error_code == '0':\n",
    "            data_list.append(rs.get_data())\n",
    "        else:\n",
    "            print(f\"下载股票数据失败：{rs.error_msg}\")\n",
    "\n",
    "    df = pd.concat(data_list, ignore_index=True)\n",
    "\n",
    "    file_name = f\"stock_data_{start_date}_{end_date}.csv\"\n",
    "    df.to_csv(file_name, index=False)\n"
   ]
  }
 ],
 "metadata": {
  "kernelspec": {
   "display_name": "base",
   "language": "python",
   "name": "python3"
  },
  "language_info": {
   "codemirror_mode": {
    "name": "ipython",
    "version": 3
   },
   "file_extension": ".py",
   "mimetype": "text/x-python",
   "name": "python",
   "nbconvert_exporter": "python",
   "pygments_lexer": "ipython3",
   "version": "3.9.12"
  },
  "orig_nbformat": 4
 },
 "nbformat": 4,
 "nbformat_minor": 2
}
